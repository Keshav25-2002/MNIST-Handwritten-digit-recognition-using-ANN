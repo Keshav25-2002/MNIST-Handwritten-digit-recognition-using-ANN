{
 "cells": [
  {
   "cell_type": "markdown",
   "metadata": {},
   "source": [
    "<b>Artificial neural networks (ANNs)</b>"
   ]
  },
  {
   "cell_type": "markdown",
   "metadata": {},
   "source": [
    "<b>\n",
    "\n",
    "It comprised of a node layers, containing an input layer, one or more hidden layers, and an output layer. \n",
    "\n",
    "Each node, or artificial neuron, connects to another and has an associated weight and threshold.\n",
    "\n",
    "If the output of any individual node is above the specified threshold value,that node is activated,sending data to the next layer of the network.\n",
    "\n",
    "Otherwise, no data is passed along to the next layer of the network</b>"
   ]
  },
  {
   "cell_type": "markdown",
   "metadata": {},
   "source": [
    "<b>\n",
    "\n",
    "Neural networks rely on training data to learn and improve their accuracy over time. \n",
    "\n",
    "However,once these learning algorithms are fine-tuned for accuracy, they are powerful tools in computer science and \n",
    "artificial intelligence, allowing us to classify and cluster data at a high velocity.\n",
    "\n",
    "\n",
    "Tasks in speech recognition or image recognition can take minutes versus hours when compared to the manual identification by human experts.</b."
   ]
  },
  {
   "cell_type": "markdown",
   "metadata": {},
   "source": [
    "<b>\n",
    "\n",
    "Our network also has the output fed to it.\n",
    "\n",
    "The predicted output is then compared with the actual output to calculate the error in the prediction. \n",
    "\n",
    "The magnitude of the error indicates how wrong we are and the sign suggests if our predicted values are higher or lower than expected.\n",
    "\n",
    "This information is then relocated backward through our network.This is known as Back propagation. \n",
    "\n",
    "Based on this information the weights are adjusted. \n",
    "\n",
    "This cycle of forward propagation and backpropagation is iteratively performed with multiple inputs.\n",
    "\n",
    "The process goes on until we get appropriate weights that produce correct output and predict our shape correctly.</b>\n"
   ]
  },
  {
   "cell_type": "markdown",
   "metadata": {},
   "source": [
    "<b>Neurons </b>"
   ]
  },
  {
   "cell_type": "markdown",
   "metadata": {},
   "source": [
    "A neuron or a node is a basic unit of neural networks that receives information, performs simple calculations, and passes it further. \n",
    "\n",
    "A layer consists of small individual units called neurons. \n",
    "\n",
    "A Building Blocks of Neural Networks neuron in a neural network can be better understood with the help of biological neurons.\n",
    "\n",
    "An artificial neuron is similar to a biological neuron. \n",
    "\n",
    "It receives input from the other neurons, performs some processing, and produces an output."
   ]
  },
  {
   "cell_type": "markdown",
   "metadata": {},
   "source": [
    "<b>Synapses and weights :</b>"
   ]
  },
  {
   "cell_type": "markdown",
   "metadata": {},
   "source": [
    "Synapses: \n",
    "\n",
    "A synapse is what connects the neurons like an electricity cable.Every synapse has a weight.\n",
    "\n",
    "The weights also add to the changes in the input information. \n",
    "\n",
    "The results of the neuron with the greater weight will be dominant in the next neuron, while information from less ‘weighty’ neurons will not be passed over.\n",
    "\n",
    "One can say that the matrix of weights governs the whole neural system\n",
    "\n",
    "Inputs are the data that we pass into the model to get desired outputs, \n",
    "\n",
    "while the weights are the parameters that we’ll tune later on to get these results.\n",
    "\n",
    "Weights are one of the types of values that change inside the model during the training phase, along with biases that also change during training."
   ]
  },
  {
   "cell_type": "markdown",
   "metadata": {},
   "source": [
    "<b>Bias</b>\n",
    "\n",
    "A bias neuron allows for more variations of weights to be stored. \n",
    "\n",
    "Biases add richer representation of the input space to the model’s weights.\n",
    "\n",
    "In the case of neural networks, a bias neuron is added to every layer. \n",
    "\n",
    "It plays a vital role by making it possible to move the activation function to the left or right on the graph.\n",
    "\n",
    "It is true that ANNs can work without bias neurons. However, they are almost always added and counted as an indispensable part of the overall model."
   ]
  },
  {
   "cell_type": "markdown",
   "metadata": {},
   "source": [
    "<b>Layers</b>\n",
    "\n",
    "A neural network is made up of vertically stacked components called Layers. \n",
    "\n",
    "Each dotted line in the image represents a layer. There are three types of layers in a Neural Network.\n",
    "\n",
    "Input Layer : \n",
    "    \n",
    "            First is the input layer. This layer will accept the data and pass it to the rest of the network.\n",
    "\n",
    "Hidden Layer : \n",
    "            The second type of layer is called the hidden layer.\n",
    "        \n",
    "            Hidden layers are either one or more in number for a neural network.\n",
    "            \n",
    "            In the above case, the number is 1. \n",
    "            \n",
    "            Hidden layers are the ones that are actually responsible for the excellent performance and complexity of neural networks.\n",
    "            \n",
    "            They perform multiple functions at the same time such as data transformation, automatic feature creation, etc.\n",
    "            \n",
    "Output layer : \n",
    "            \n",
    "                The last type of layer is the output layer. The output layer holds the result or the output of the problem.\n",
    "                \n",
    "                Raw images get passed to the input layer and we receive output in the output layer.\n",
    "                \n",
    "\n",
    "The neuron basically sums each input multiplied by that input's weight, then add the bias.\n",
    "\n",
    "All the neuron does is take the fractions of inputs, where these fractions (weights) are the adjustable parameters, and adds\n",
    "\n",
    "another adjustable parameter — the bias — then outputs the result."
   ]
  },
  {
   "cell_type": "markdown",
   "metadata": {},
   "source": [
    "Neural networks typically have layers that consist of more than one neuron.\n",
    "\n",
    "Layers are nothing more than groups of neurons. Each neuron in a layer takes exactly the same input — the input\n",
    "given to the layer (which can be either the training data or the output from the previous layer),\n",
    "but contains its own set of weights and its own bias, producing its own unique output."
   ]
  },
  {
   "cell_type": "code",
   "execution_count": 2,
   "metadata": {},
   "outputs": [
    {
     "name": "stdout",
     "output_type": "stream",
     "text": [
      "Requirement already satisfied: tensorflow in c:\\users\\lenovo\\appdata\\roaming\\python\\python38\\site-packages (2.6.0)\n",
      "Requirement already satisfied: tensorboard~=2.6 in c:\\users\\lenovo\\appdata\\roaming\\python\\python38\\site-packages (from tensorflow) (2.6.0)\n",
      "Requirement already satisfied: termcolor~=1.1.0 in c:\\users\\lenovo\\appdata\\roaming\\python\\python38\\site-packages (from tensorflow) (1.1.0)\n",
      "Requirement already satisfied: keras~=2.6 in c:\\users\\lenovo\\appdata\\roaming\\python\\python38\\site-packages (from tensorflow) (2.6.0)\n",
      "Requirement already satisfied: protobuf>=3.9.2 in c:\\users\\lenovo\\anaconda3\\lib\\site-packages (from tensorflow) (3.17.3)\n",
      "Requirement already satisfied: absl-py~=0.10 in c:\\users\\lenovo\\anaconda3\\lib\\site-packages (from tensorflow) (0.13.0)\n",
      "Requirement already satisfied: six~=1.15.0 in c:\\users\\lenovo\\anaconda3\\lib\\site-packages (from tensorflow) (1.15.0)\n",
      "Requirement already satisfied: grpcio<2.0,>=1.37.0 in c:\\users\\lenovo\\appdata\\roaming\\python\\python38\\site-packages (from tensorflow) (1.41.0)\n",
      "Requirement already satisfied: wrapt~=1.12.1 in c:\\users\\lenovo\\appdata\\roaming\\python\\python38\\site-packages (from tensorflow) (1.12.1)\n",
      "Requirement already satisfied: clang~=5.0 in c:\\users\\lenovo\\appdata\\roaming\\python\\python38\\site-packages (from tensorflow) (5.0)\n",
      "Requirement already satisfied: typing-extensions~=3.7.4 in c:\\users\\lenovo\\anaconda3\\lib\\site-packages (from tensorflow) (3.7.4.3)\n",
      "Requirement already satisfied: tensorflow-estimator~=2.6 in c:\\users\\lenovo\\appdata\\roaming\\python\\python38\\site-packages (from tensorflow) (2.6.0)\n",
      "Requirement already satisfied: astunparse~=1.6.3 in c:\\users\\lenovo\\appdata\\roaming\\python\\python38\\site-packages (from tensorflow) (1.6.3)\n",
      "Requirement already satisfied: wheel~=0.35 in c:\\users\\lenovo\\anaconda3\\lib\\site-packages (from tensorflow) (0.35.1)\n",
      "Requirement already satisfied: gast==0.4.0 in c:\\users\\lenovo\\appdata\\roaming\\python\\python38\\site-packages (from tensorflow) (0.4.0)\n",
      "Requirement already satisfied: h5py~=3.1.0 in c:\\users\\lenovo\\appdata\\roaming\\python\\python38\\site-packages (from tensorflow) (3.1.0)\n",
      "Requirement already satisfied: opt-einsum~=3.3.0 in c:\\users\\lenovo\\appdata\\roaming\\python\\python38\\site-packages (from tensorflow) (3.3.0)\n",
      "Requirement already satisfied: google-pasta~=0.2 in c:\\users\\lenovo\\appdata\\roaming\\python\\python38\\site-packages (from tensorflow) (0.2.0)\n",
      "Requirement already satisfied: keras-preprocessing~=1.1.2 in c:\\users\\lenovo\\appdata\\roaming\\python\\python38\\site-packages (from tensorflow) (1.1.2)\n",
      "Requirement already satisfied: flatbuffers~=1.12.0 in c:\\users\\lenovo\\appdata\\roaming\\python\\python38\\site-packages (from tensorflow) (1.12)\n",
      "Requirement already satisfied: numpy~=1.19.2 in c:\\users\\lenovo\\anaconda3\\lib\\site-packages (from tensorflow) (1.19.2)\n",
      "Requirement already satisfied: google-auth<2,>=1.6.3 in c:\\users\\lenovo\\anaconda3\\lib\\site-packages (from tensorboard~=2.6->tensorflow) (1.31.0)\n",
      "Requirement already satisfied: markdown>=2.6.8 in c:\\users\\lenovo\\anaconda3\\lib\\site-packages (from tensorboard~=2.6->tensorflow) (3.3.4)\n",
      "Requirement already satisfied: setuptools>=41.0.0 in c:\\users\\lenovo\\anaconda3\\lib\\site-packages (from tensorboard~=2.6->tensorflow) (50.3.1.post20201107)\n",
      "Requirement already satisfied: google-auth-oauthlib<0.5,>=0.4.1 in c:\\users\\lenovo\\anaconda3\\lib\\site-packages (from tensorboard~=2.6->tensorflow) (0.4.4)\n",
      "Requirement already satisfied: requests<3,>=2.21.0 in c:\\users\\lenovo\\anaconda3\\lib\\site-packages (from tensorboard~=2.6->tensorflow) (2.22.0)\n",
      "Requirement already satisfied: tensorboard-plugin-wit>=1.6.0 in c:\\users\\lenovo\\anaconda3\\lib\\site-packages (from tensorboard~=2.6->tensorflow) (1.8.0)\n",
      "Requirement already satisfied: tensorboard-data-server<0.7.0,>=0.6.0 in c:\\users\\lenovo\\anaconda3\\lib\\site-packages (from tensorboard~=2.6->tensorflow) (0.6.1)\n",
      "Requirement already satisfied: werkzeug>=0.11.15 in c:\\users\\lenovo\\anaconda3\\lib\\site-packages (from tensorboard~=2.6->tensorflow) (1.0.1)\n",
      "Requirement already satisfied: pyasn1-modules>=0.2.1 in c:\\users\\lenovo\\anaconda3\\lib\\site-packages (from google-auth<2,>=1.6.3->tensorboard~=2.6->tensorflow) (0.2.8)\n",
      "Requirement already satisfied: rsa<5,>=3.1.4; python_version >= \"3.6\" in c:\\users\\lenovo\\anaconda3\\lib\\site-packages (from google-auth<2,>=1.6.3->tensorboard~=2.6->tensorflow) (4.7.2)\n",
      "Requirement already satisfied: cachetools<5.0,>=2.0.0 in c:\\users\\lenovo\\anaconda3\\lib\\site-packages (from google-auth<2,>=1.6.3->tensorboard~=2.6->tensorflow) (4.2.2)\n",
      "Requirement already satisfied: requests-oauthlib>=0.7.0 in c:\\users\\lenovo\\anaconda3\\lib\\site-packages (from google-auth-oauthlib<0.5,>=0.4.1->tensorboard~=2.6->tensorflow) (1.3.0)\n",
      "Requirement already satisfied: urllib3!=1.25.0,!=1.25.1,<1.26,>=1.21.1 in c:\\users\\lenovo\\anaconda3\\lib\\site-packages (from requests<3,>=2.21.0->tensorboard~=2.6->tensorflow) (1.25.11)\n",
      "Requirement already satisfied: certifi>=2017.4.17 in c:\\users\\lenovo\\anaconda3\\lib\\site-packages (from requests<3,>=2.21.0->tensorboard~=2.6->tensorflow) (2020.6.20)\n",
      "Requirement already satisfied: chardet<3.1.0,>=3.0.2 in c:\\users\\lenovo\\anaconda3\\lib\\site-packages (from requests<3,>=2.21.0->tensorboard~=2.6->tensorflow) (3.0.4)\n",
      "Requirement already satisfied: idna<2.9,>=2.5 in c:\\users\\lenovo\\anaconda3\\lib\\site-packages (from requests<3,>=2.21.0->tensorboard~=2.6->tensorflow) (2.8)\n",
      "Requirement already satisfied: pyasn1<0.5.0,>=0.4.6 in c:\\users\\lenovo\\anaconda3\\lib\\site-packages (from pyasn1-modules>=0.2.1->google-auth<2,>=1.6.3->tensorboard~=2.6->tensorflow) (0.4.8)\n",
      "Requirement already satisfied: oauthlib>=3.0.0 in c:\\users\\lenovo\\anaconda3\\lib\\site-packages (from requests-oauthlib>=0.7.0->google-auth-oauthlib<0.5,>=0.4.1->tensorboard~=2.6->tensorflow) (3.1.1)\n",
      "Note: you may need to restart the kernel to use updated packages.\n"
     ]
    }
   ],
   "source": [
    "pip install tensorflow"
   ]
  },
  {
   "cell_type": "code",
   "execution_count": 3,
   "metadata": {},
   "outputs": [],
   "source": [
    "import tensorflow as tf"
   ]
  },
  {
   "cell_type": "code",
   "execution_count": 4,
   "metadata": {},
   "outputs": [
    {
     "data": {
      "text/plain": [
       "'2.6.0'"
      ]
     },
     "execution_count": 4,
     "metadata": {},
     "output_type": "execute_result"
    }
   ],
   "source": [
    "tf.__version__"
   ]
  },
  {
   "cell_type": "code",
   "execution_count": 5,
   "metadata": {},
   "outputs": [
    {
     "data": {
      "text/plain": [
       "'2.6.0'"
      ]
     },
     "execution_count": 5,
     "metadata": {},
     "output_type": "execute_result"
    }
   ],
   "source": [
    "tf.keras.__version__"
   ]
  },
  {
   "cell_type": "code",
   "execution_count": 6,
   "metadata": {},
   "outputs": [
    {
     "data": {
      "text/plain": [
       "[]"
      ]
     },
     "execution_count": 6,
     "metadata": {},
     "output_type": "execute_result"
    }
   ],
   "source": [
    "tf.config.list_physical_devices(\"GPU\")"
   ]
  },
  {
   "cell_type": "code",
   "execution_count": 7,
   "metadata": {},
   "outputs": [
    {
     "data": {
      "text/plain": [
       "[PhysicalDevice(name='/physical_device:CPU:0', device_type='CPU')]"
      ]
     },
     "execution_count": 7,
     "metadata": {},
     "output_type": "execute_result"
    }
   ],
   "source": [
    "tf.config.list_physical_devices(\"CPU\")"
   ]
  },
  {
   "cell_type": "code",
   "execution_count": 8,
   "metadata": {},
   "outputs": [],
   "source": [
    "import numpy as np\n",
    "import matplotlib.pyplot as plt\n",
    "import pandas as pd\n",
    "import seaborn as sns"
   ]
  },
  {
   "cell_type": "code",
   "execution_count": 9,
   "metadata": {},
   "outputs": [],
   "source": [
    "mnist = tf.keras.datasets.mnist"
   ]
  },
  {
   "cell_type": "code",
   "execution_count": 10,
   "metadata": {},
   "outputs": [
    {
     "name": "stdout",
     "output_type": "stream",
     "text": [
      "Downloading data from https://storage.googleapis.com/tensorflow/tf-keras-datasets/mnist.npz\n",
      "11493376/11490434 [==============================] - 7s 1us/step\n",
      "11501568/11490434 [==============================] - 7s 1us/step\n"
     ]
    }
   ],
   "source": [
    "(X_train_full, y_train_full), (X_test, y_test) = mnist.load_data()"
   ]
  },
  {
   "cell_type": "code",
   "execution_count": 11,
   "metadata": {},
   "outputs": [
    {
     "data": {
      "text/plain": [
       "(60000, 28, 28)"
      ]
     },
     "execution_count": 11,
     "metadata": {},
     "output_type": "execute_result"
    }
   ],
   "source": [
    "X_train_full.shape"
   ]
  },
  {
   "cell_type": "code",
   "execution_count": 12,
   "metadata": {},
   "outputs": [
    {
     "data": {
      "text/plain": [
       "(10000, 28, 28)"
      ]
     },
     "execution_count": 12,
     "metadata": {},
     "output_type": "execute_result"
    }
   ],
   "source": [
    "X_test.shape"
   ]
  },
  {
   "cell_type": "code",
   "execution_count": 13,
   "metadata": {},
   "outputs": [
    {
     "data": {
      "text/plain": [
       "(28, 28)"
      ]
     },
     "execution_count": 13,
     "metadata": {},
     "output_type": "execute_result"
    }
   ],
   "source": [
    "X_train_full[0].shape"
   ]
  },
  {
   "cell_type": "code",
   "execution_count": 18,
   "metadata": {},
   "outputs": [
    {
     "data": {
      "image/png": "[encoded data removed]",
      "text/plain": [
       "<Figure size 432x288 with 1 Axes>"
      ]
     },
     "metadata": {
      "needs_background": "light"
     },
     "output_type": "display_data"
    }
   ],
   "source": [
    "img  = X_train_full[5]\n",
    "\n",
    "plt.imshow(img, cmap=\"binary\")\n",
    "plt.axis(\"off\")\n",
    "plt.show()"
   ]
  },
  {
   "cell_type": "code",
   "execution_count": 19,
   "metadata": {},
   "outputs": [
    {
     "data": {
      "text/plain": [
       "(255, 0)"
      ]
     },
     "execution_count": 19,
     "metadata": {},
     "output_type": "execute_result"
    }
   ],
   "source": [
    "img.max(), img.min()"
   ]
  },
  {
   "cell_type": "code",
   "execution_count": 20,
   "metadata": {},
   "outputs": [
    {
     "data": {
      "text/plain": [
       "<AxesSubplot:>"
      ]
     },
     "execution_count": 20,
     "metadata": {},
     "output_type": "execute_result"
    },
    {
     "data": {
      "image/png": "[encoded data removed]",
      "text/plain": [
       "<Figure size 1440x1440 with 2 Axes>"
      ]
     },
     "metadata": {
      "needs_background": "light"
     },
     "output_type": "display_data"
    }
   ],
   "source": [
    "plt.figure(figsize=(20,20))\n",
    "sns.heatmap(img/255, annot=True, cmap=\"binary\")"
   ]
  },
  {
   "cell_type": "code",
   "execution_count": 21,
   "metadata": {},
   "outputs": [],
   "source": [
    "X_valid, X_train = X_train_full[:5000] / 255., X_train_full[5000:] / 255.\n",
    "y_valid, y_train = y_train_full[:5000], y_train_full[5000:]\n",
    "\n",
    "X_test = X_test / 255."
   ]
  },
  {
   "cell_type": "code",
   "execution_count": 22,
   "metadata": {},
   "outputs": [
    {
     "data": {
      "text/plain": [
       "(5000, 28, 28)"
      ]
     },
     "execution_count": 22,
     "metadata": {},
     "output_type": "execute_result"
    }
   ],
   "source": [
    "X_valid.shape"
   ]
  },
  {
   "cell_type": "code",
   "execution_count": 23,
   "metadata": {},
   "outputs": [
    {
     "data": {
      "text/plain": [
       "(55000, 28, 28)"
      ]
     },
     "execution_count": 23,
     "metadata": {},
     "output_type": "execute_result"
    }
   ],
   "source": [
    "X_train.shape"
   ]
  },
  {
   "cell_type": "code",
   "execution_count": 24,
   "metadata": {},
   "outputs": [],
   "source": [
    "LAYERS = [\n",
    "          tf.keras.layers.Flatten(input_shape=[28,28], name=\"inputLayer\"),\n",
    "          tf.keras.layers.Dense(300, activation=\"relu\", name=\"hiddenLayer1\"),\n",
    "          tf.keras.layers.Dense(100, activation=\"relu\", name=\"hiddenLayer2\"),\n",
    "          tf.keras.layers.Dense(10, activation=\"softmax\", name=\"outputLayer\")\n",
    "]"
   ]
  },
  {
   "cell_type": "code",
   "execution_count": 25,
   "metadata": {},
   "outputs": [],
   "source": [
    "model_clf = tf.keras.models.Sequential(LAYERS)"
   ]
  },
  {
   "cell_type": "code",
   "execution_count": 26,
   "metadata": {},
   "outputs": [
    {
     "data": {
      "text/plain": [
       "[<keras.layers.core.Flatten at 0x22b574bf130>,\n",
       " <keras.layers.core.Dense at 0x22b574bf220>,\n",
       " <keras.layers.core.Dense at 0x22b5754c7f0>,\n",
       " <keras.layers.core.Dense at 0x22b5754cb20>]"
      ]
     },
     "execution_count": 26,
     "metadata": {},
     "output_type": "execute_result"
    }
   ],
   "source": [
    "model_clf.layers"
   ]
  },
  {
   "cell_type": "code",
   "execution_count": 27,
   "metadata": {},
   "outputs": [
    {
     "name": "stdout",
     "output_type": "stream",
     "text": [
      "Model: \"sequential\"\n",
      "_________________________________________________________________\n",
      "Layer (type)                 Output Shape              Param #   \n",
      "=================================================================\n",
      "inputLayer (Flatten)         (None, 784)               0         \n",
      "_________________________________________________________________\n",
      "hiddenLayer1 (Dense)         (None, 300)               235500    \n",
      "_________________________________________________________________\n",
      "hiddenLayer2 (Dense)         (None, 100)               30100     \n",
      "_________________________________________________________________\n",
      "outputLayer (Dense)          (None, 10)                1010      \n",
      "=================================================================\n",
      "Total params: 266,610\n",
      "Trainable params: 266,610\n",
      "Non-trainable params: 0\n",
      "_________________________________________________________________\n"
     ]
    }
   ],
   "source": [
    "model_clf.summary()"
   ]
  },
  {
   "cell_type": "code",
   "execution_count": 28,
   "metadata": {},
   "outputs": [],
   "source": [
    "LOSS_FUNCTION = \"sparse_categorical_crossentropy\"\n",
    "OPTIMIZER = \"SGD\"\n",
    "METRICS = [\"accuracy\"]\n",
    "\n",
    "model_clf.compile(loss=LOSS_FUNCTION, optimizer=OPTIMIZER, metrics=METRICS)"
   ]
  },
  {
   "cell_type": "code",
   "execution_count": 29,
   "metadata": {},
   "outputs": [
    {
     "name": "stdout",
     "output_type": "stream",
     "text": [
      "Epoch 1/30\n",
      "1719/1719 [==============================] - 4s 2ms/step - loss: 0.6071 - accuracy: 0.8475 - val_loss: 0.3049 - val_accuracy: 0.9164\n",
      "Epoch 2/30\n",
      "1719/1719 [==============================] - 3s 2ms/step - loss: 0.2847 - accuracy: 0.9189 - val_loss: 0.2388 - val_accuracy: 0.9328\n",
      "Epoch 3/30\n",
      "1719/1719 [==============================] - 3s 2ms/step - loss: 0.2322 - accuracy: 0.9343 - val_loss: 0.2032 - val_accuracy: 0.9438\n",
      "Epoch 4/30\n",
      "1719/1719 [==============================] - 4s 2ms/step - loss: 0.1976 - accuracy: 0.9445 - val_loss: 0.1744 - val_accuracy: 0.9504\n",
      "Epoch 5/30\n",
      "1719/1719 [==============================] - 4s 2ms/step - loss: 0.1718 - accuracy: 0.9520 - val_loss: 0.1569 - val_accuracy: 0.9576\n",
      "Epoch 6/30\n",
      "1719/1719 [==============================] - 3s 2ms/step - loss: 0.1519 - accuracy: 0.9577 - val_loss: 0.1479 - val_accuracy: 0.9598\n",
      "Epoch 7/30\n",
      "1719/1719 [==============================] - 4s 2ms/step - loss: 0.1363 - accuracy: 0.9614 - val_loss: 0.1281 - val_accuracy: 0.9642\n",
      "Epoch 8/30\n",
      "1719/1719 [==============================] - 4s 2ms/step - loss: 0.1232 - accuracy: 0.9654 - val_loss: 0.1230 - val_accuracy: 0.9650\n",
      "Epoch 9/30\n",
      "1719/1719 [==============================] - 4s 2ms/step - loss: 0.1115 - accuracy: 0.9687 - val_loss: 0.1173 - val_accuracy: 0.9676\n",
      "Epoch 10/30\n",
      "1719/1719 [==============================] - 4s 3ms/step - loss: 0.1024 - accuracy: 0.9716 - val_loss: 0.1073 - val_accuracy: 0.9692\n",
      "Epoch 11/30\n",
      "1719/1719 [==============================] - 5s 3ms/step - loss: 0.0938 - accuracy: 0.9738 - val_loss: 0.1016 - val_accuracy: 0.9712\n",
      "Epoch 12/30\n",
      "1719/1719 [==============================] - 4s 3ms/step - loss: 0.0865 - accuracy: 0.9765 - val_loss: 0.0967 - val_accuracy: 0.9736\n",
      "Epoch 13/30\n",
      "1719/1719 [==============================] - 4s 2ms/step - loss: 0.0801 - accuracy: 0.9781 - val_loss: 0.0981 - val_accuracy: 0.9724\n",
      "Epoch 14/30\n",
      "1719/1719 [==============================] - 4s 2ms/step - loss: 0.0745 - accuracy: 0.9796 - val_loss: 0.0916 - val_accuracy: 0.9736\n",
      "Epoch 15/30\n",
      "1719/1719 [==============================] - 4s 2ms/step - loss: 0.0691 - accuracy: 0.9809 - val_loss: 0.0880 - val_accuracy: 0.9748\n",
      "Epoch 16/30\n",
      "1719/1719 [==============================] - 4s 3ms/step - loss: 0.0649 - accuracy: 0.9820 - val_loss: 0.0859 - val_accuracy: 0.9754\n",
      "Epoch 17/30\n",
      "1719/1719 [==============================] - 4s 2ms/step - loss: 0.0603 - accuracy: 0.9837 - val_loss: 0.0839 - val_accuracy: 0.9746\n",
      "Epoch 18/30\n",
      "1719/1719 [==============================] - 4s 2ms/step - loss: 0.0564 - accuracy: 0.9854 - val_loss: 0.0810 - val_accuracy: 0.9760\n",
      "Epoch 19/30\n",
      "1719/1719 [==============================] - 4s 3ms/step - loss: 0.0528 - accuracy: 0.9860 - val_loss: 0.0792 - val_accuracy: 0.9768\n",
      "Epoch 20/30\n",
      "1719/1719 [==============================] - 4s 2ms/step - loss: 0.0495 - accuracy: 0.9872 - val_loss: 0.0795 - val_accuracy: 0.9776\n",
      "Epoch 21/30\n",
      "1719/1719 [==============================] - 5s 3ms/step - loss: 0.0468 - accuracy: 0.9879 - val_loss: 0.0759 - val_accuracy: 0.9770\n",
      "Epoch 22/30\n",
      "1719/1719 [==============================] - 4s 3ms/step - loss: 0.0437 - accuracy: 0.9890 - val_loss: 0.0757 - val_accuracy: 0.9774\n",
      "Epoch 23/30\n",
      "1719/1719 [==============================] - 4s 2ms/step - loss: 0.0409 - accuracy: 0.9895 - val_loss: 0.0726 - val_accuracy: 0.9788\n",
      "Epoch 24/30\n",
      "1719/1719 [==============================] - 4s 2ms/step - loss: 0.0386 - accuracy: 0.9905 - val_loss: 0.0736 - val_accuracy: 0.9770\n",
      "Epoch 25/30\n",
      "1719/1719 [==============================] - 4s 2ms/step - loss: 0.0363 - accuracy: 0.9909 - val_loss: 0.0718 - val_accuracy: 0.9778\n",
      "Epoch 26/30\n",
      "1719/1719 [==============================] - 4s 2ms/step - loss: 0.0343 - accuracy: 0.9921 - val_loss: 0.0739 - val_accuracy: 0.9788\n",
      "Epoch 27/30\n",
      "1719/1719 [==============================] - 4s 2ms/step - loss: 0.0321 - accuracy: 0.9927 - val_loss: 0.0717 - val_accuracy: 0.9784\n",
      "Epoch 28/30\n",
      "1719/1719 [==============================] - 5s 3ms/step - loss: 0.0305 - accuracy: 0.9930 - val_loss: 0.0718 - val_accuracy: 0.9794\n",
      "Epoch 29/30\n",
      "1719/1719 [==============================] - 5s 3ms/step - loss: 0.0287 - accuracy: 0.9935 - val_loss: 0.0737 - val_accuracy: 0.9786\n",
      "Epoch 30/30\n",
      "1719/1719 [==============================] - 4s 3ms/step - loss: 0.0269 - accuracy: 0.9942 - val_loss: 0.0725 - val_accuracy: 0.9780\n"
     ]
    }
   ],
   "source": [
    "EPOCHS = 30\n",
    "VALIDATION = (X_valid, y_valid)\n",
    "\n",
    "history = model_clf.fit(X_train, y_train, epochs=EPOCHS, validation_data=VALIDATION)"
   ]
  },
  {
   "cell_type": "code",
   "execution_count": 30,
   "metadata": {},
   "outputs": [
    {
     "data": {
      "text/plain": [
       "{'verbose': 1, 'epochs': 30, 'steps': 1719}"
      ]
     },
     "execution_count": 30,
     "metadata": {},
     "output_type": "execute_result"
    }
   ],
   "source": [
    "history.params"
   ]
  },
  {
   "cell_type": "code",
   "execution_count": 31,
   "metadata": {},
   "outputs": [
    {
     "data": {
      "text/plain": [
       "dict"
      ]
     },
     "execution_count": 31,
     "metadata": {},
     "output_type": "execute_result"
    }
   ],
   "source": [
    "type(history.history)"
   ]
  },
  {
   "cell_type": "code",
   "execution_count": 32,
   "metadata": {},
   "outputs": [
    {
     "data": {
      "text/plain": [
       "{'loss': [0.6071012020111084,\n",
       "  0.2846970558166504,\n",
       "  0.2321900725364685,\n",
       "  0.19756963849067688,\n",
       "  0.1717882752418518,\n",
       "  0.15190275013446808,\n",
       "  0.1362941563129425,\n",
       "  0.12324831634759903,\n",
       "  0.1114799752831459,\n",
       "  0.10238072276115417,\n",
       "  0.09380960464477539,\n",
       "  0.0865173190832138,\n",
       "  0.08009981364011765,\n",
       "  0.07454445213079453,\n",
       "  0.06913251429796219,\n",
       "  0.06492778658866882,\n",
       "  0.06029777601361275,\n",
       "  0.05638996511697769,\n",
       "  0.05284040793776512,\n",
       "  0.04951607435941696,\n",
       "  0.04675860330462456,\n",
       "  0.043702609837055206,\n",
       "  0.040948424488306046,\n",
       "  0.03861235827207565,\n",
       "  0.036345601081848145,\n",
       "  0.03426050767302513,\n",
       "  0.03214317560195923,\n",
       "  0.030481208115816116,\n",
       "  0.028711460530757904,\n",
       "  0.026895860210061073],\n",
       " 'accuracy': [0.8474727272987366,\n",
       "  0.9188908934593201,\n",
       "  0.9342727065086365,\n",
       "  0.944454550743103,\n",
       "  0.9520000219345093,\n",
       "  0.9577090740203857,\n",
       "  0.9613999724388123,\n",
       "  0.965399980545044,\n",
       "  0.9687272906303406,\n",
       "  0.9716181755065918,\n",
       "  0.9738181829452515,\n",
       "  0.9764909148216248,\n",
       "  0.9781090617179871,\n",
       "  0.9796363711357117,\n",
       "  0.9808909296989441,\n",
       "  0.9820181727409363,\n",
       "  0.9836727380752563,\n",
       "  0.9853636622428894,\n",
       "  0.9860000014305115,\n",
       "  0.9872182011604309,\n",
       "  0.9879090785980225,\n",
       "  0.9889636635780334,\n",
       "  0.989545464515686,\n",
       "  0.9905454516410828,\n",
       "  0.9909272789955139,\n",
       "  0.9920727014541626,\n",
       "  0.9927091002464294,\n",
       "  0.9929636120796204,\n",
       "  0.9935272932052612,\n",
       "  0.9942363500595093],\n",
       " 'val_loss': [0.30488690733909607,\n",
       "  0.2387545108795166,\n",
       "  0.20316888391971588,\n",
       "  0.1744213104248047,\n",
       "  0.15690872073173523,\n",
       "  0.1478540152311325,\n",
       "  0.12805357575416565,\n",
       "  0.12300297617912292,\n",
       "  0.11732039600610733,\n",
       "  0.10731332004070282,\n",
       "  0.10159958153963089,\n",
       "  0.09666217118501663,\n",
       "  0.09805569797754288,\n",
       "  0.0916295200586319,\n",
       "  0.08803514391183853,\n",
       "  0.08594255894422531,\n",
       "  0.08392184227705002,\n",
       "  0.08095675706863403,\n",
       "  0.07924055308103561,\n",
       "  0.07950983196496964,\n",
       "  0.0758957788348198,\n",
       "  0.07571491599082947,\n",
       "  0.07260406017303467,\n",
       "  0.07364622503519058,\n",
       "  0.07184766232967377,\n",
       "  0.07390313595533371,\n",
       "  0.07172441482543945,\n",
       "  0.07175011932849884,\n",
       "  0.07371070981025696,\n",
       "  0.0725141391158104],\n",
       " 'val_accuracy': [0.9164000153541565,\n",
       "  0.9327999949455261,\n",
       "  0.9437999725341797,\n",
       "  0.9503999948501587,\n",
       "  0.9575999975204468,\n",
       "  0.9598000049591064,\n",
       "  0.9642000198364258,\n",
       "  0.9649999737739563,\n",
       "  0.9675999879837036,\n",
       "  0.9692000150680542,\n",
       "  0.9711999893188477,\n",
       "  0.9735999703407288,\n",
       "  0.9724000096321106,\n",
       "  0.9735999703407288,\n",
       "  0.9747999906539917,\n",
       "  0.9753999710083008,\n",
       "  0.9746000170707703,\n",
       "  0.9760000109672546,\n",
       "  0.9768000245094299,\n",
       "  0.9775999784469604,\n",
       "  0.9769999980926514,\n",
       "  0.977400004863739,\n",
       "  0.9787999987602234,\n",
       "  0.9769999980926514,\n",
       "  0.9778000116348267,\n",
       "  0.9787999987602234,\n",
       "  0.9783999919891357,\n",
       "  0.9793999791145325,\n",
       "  0.978600025177002,\n",
       "  0.9779999852180481]}"
      ]
     },
     "execution_count": 32,
     "metadata": {},
     "output_type": "execute_result"
    }
   ],
   "source": [
    "history.history"
   ]
  },
  {
   "cell_type": "code",
   "execution_count": 33,
   "metadata": {},
   "outputs": [
    {
     "data": {
      "text/html": [
       "<div>\n",
       "<style scoped>\n",
       "    .dataframe tbody tr th:only-of-type {\n",
       "        vertical-align: middle;\n",
       "    }\n",
       "\n",
       "    .dataframe tbody tr th {\n",
       "        vertical-align: top;\n",
       "    }\n",
       "\n",
       "    .dataframe thead th {\n",
       "        text-align: right;\n",
       "    }\n",
       "</style>\n",
       "<table border=\"1\" class=\"dataframe\">\n",
       "  <thead>\n",
       "    <tr style=\"text-align: right;\">\n",
       "      <th></th>\n",
       "      <th>loss</th>\n",
       "      <th>accuracy</th>\n",
       "      <th>val_loss</th>\n",
       "      <th>val_accuracy</th>\n",
       "    </tr>\n",
       "  </thead>\n",
       "  <tbody>\n",
       "    <tr>\n",
       "      <th>0</th>\n",
       "      <td>0.607101</td>\n",
       "      <td>0.847473</td>\n",
       "      <td>0.304887</td>\n",
       "      <td>0.9164</td>\n",
       "    </tr>\n",
       "    <tr>\n",
       "      <th>1</th>\n",
       "      <td>0.284697</td>\n",
       "      <td>0.918891</td>\n",
       "      <td>0.238755</td>\n",
       "      <td>0.9328</td>\n",
       "    </tr>\n",
       "    <tr>\n",
       "      <th>2</th>\n",
       "      <td>0.232190</td>\n",
       "      <td>0.934273</td>\n",
       "      <td>0.203169</td>\n",
       "      <td>0.9438</td>\n",
       "    </tr>\n",
       "    <tr>\n",
       "      <th>3</th>\n",
       "      <td>0.197570</td>\n",
       "      <td>0.944455</td>\n",
       "      <td>0.174421</td>\n",
       "      <td>0.9504</td>\n",
       "    </tr>\n",
       "    <tr>\n",
       "      <th>4</th>\n",
       "      <td>0.171788</td>\n",
       "      <td>0.952000</td>\n",
       "      <td>0.156909</td>\n",
       "      <td>0.9576</td>\n",
       "    </tr>\n",
       "    <tr>\n",
       "      <th>5</th>\n",
       "      <td>0.151903</td>\n",
       "      <td>0.957709</td>\n",
       "      <td>0.147854</td>\n",
       "      <td>0.9598</td>\n",
       "    </tr>\n",
       "    <tr>\n",
       "      <th>6</th>\n",
       "      <td>0.136294</td>\n",
       "      <td>0.961400</td>\n",
       "      <td>0.128054</td>\n",
       "      <td>0.9642</td>\n",
       "    </tr>\n",
       "    <tr>\n",
       "      <th>7</th>\n",
       "      <td>0.123248</td>\n",
       "      <td>0.965400</td>\n",
       "      <td>0.123003</td>\n",
       "      <td>0.9650</td>\n",
       "    </tr>\n",
       "    <tr>\n",
       "      <th>8</th>\n",
       "      <td>0.111480</td>\n",
       "      <td>0.968727</td>\n",
       "      <td>0.117320</td>\n",
       "      <td>0.9676</td>\n",
       "    </tr>\n",
       "    <tr>\n",
       "      <th>9</th>\n",
       "      <td>0.102381</td>\n",
       "      <td>0.971618</td>\n",
       "      <td>0.107313</td>\n",
       "      <td>0.9692</td>\n",
       "    </tr>\n",
       "    <tr>\n",
       "      <th>10</th>\n",
       "      <td>0.093810</td>\n",
       "      <td>0.973818</td>\n",
       "      <td>0.101600</td>\n",
       "      <td>0.9712</td>\n",
       "    </tr>\n",
       "    <tr>\n",
       "      <th>11</th>\n",
       "      <td>0.086517</td>\n",
       "      <td>0.976491</td>\n",
       "      <td>0.096662</td>\n",
       "      <td>0.9736</td>\n",
       "    </tr>\n",
       "    <tr>\n",
       "      <th>12</th>\n",
       "      <td>0.080100</td>\n",
       "      <td>0.978109</td>\n",
       "      <td>0.098056</td>\n",
       "      <td>0.9724</td>\n",
       "    </tr>\n",
       "    <tr>\n",
       "      <th>13</th>\n",
       "      <td>0.074544</td>\n",
       "      <td>0.979636</td>\n",
       "      <td>0.091630</td>\n",
       "      <td>0.9736</td>\n",
       "    </tr>\n",
       "    <tr>\n",
       "      <th>14</th>\n",
       "      <td>0.069133</td>\n",
       "      <td>0.980891</td>\n",
       "      <td>0.088035</td>\n",
       "      <td>0.9748</td>\n",
       "    </tr>\n",
       "    <tr>\n",
       "      <th>15</th>\n",
       "      <td>0.064928</td>\n",
       "      <td>0.982018</td>\n",
       "      <td>0.085943</td>\n",
       "      <td>0.9754</td>\n",
       "    </tr>\n",
       "    <tr>\n",
       "      <th>16</th>\n",
       "      <td>0.060298</td>\n",
       "      <td>0.983673</td>\n",
       "      <td>0.083922</td>\n",
       "      <td>0.9746</td>\n",
       "    </tr>\n",
       "    <tr>\n",
       "      <th>17</th>\n",
       "      <td>0.056390</td>\n",
       "      <td>0.985364</td>\n",
       "      <td>0.080957</td>\n",
       "      <td>0.9760</td>\n",
       "    </tr>\n",
       "    <tr>\n",
       "      <th>18</th>\n",
       "      <td>0.052840</td>\n",
       "      <td>0.986000</td>\n",
       "      <td>0.079241</td>\n",
       "      <td>0.9768</td>\n",
       "    </tr>\n",
       "    <tr>\n",
       "      <th>19</th>\n",
       "      <td>0.049516</td>\n",
       "      <td>0.987218</td>\n",
       "      <td>0.079510</td>\n",
       "      <td>0.9776</td>\n",
       "    </tr>\n",
       "    <tr>\n",
       "      <th>20</th>\n",
       "      <td>0.046759</td>\n",
       "      <td>0.987909</td>\n",
       "      <td>0.075896</td>\n",
       "      <td>0.9770</td>\n",
       "    </tr>\n",
       "    <tr>\n",
       "      <th>21</th>\n",
       "      <td>0.043703</td>\n",
       "      <td>0.988964</td>\n",
       "      <td>0.075715</td>\n",
       "      <td>0.9774</td>\n",
       "    </tr>\n",
       "    <tr>\n",
       "      <th>22</th>\n",
       "      <td>0.040948</td>\n",
       "      <td>0.989545</td>\n",
       "      <td>0.072604</td>\n",
       "      <td>0.9788</td>\n",
       "    </tr>\n",
       "    <tr>\n",
       "      <th>23</th>\n",
       "      <td>0.038612</td>\n",
       "      <td>0.990545</td>\n",
       "      <td>0.073646</td>\n",
       "      <td>0.9770</td>\n",
       "    </tr>\n",
       "    <tr>\n",
       "      <th>24</th>\n",
       "      <td>0.036346</td>\n",
       "      <td>0.990927</td>\n",
       "      <td>0.071848</td>\n",
       "      <td>0.9778</td>\n",
       "    </tr>\n",
       "    <tr>\n",
       "      <th>25</th>\n",
       "      <td>0.034261</td>\n",
       "      <td>0.992073</td>\n",
       "      <td>0.073903</td>\n",
       "      <td>0.9788</td>\n",
       "    </tr>\n",
       "    <tr>\n",
       "      <th>26</th>\n",
       "      <td>0.032143</td>\n",
       "      <td>0.992709</td>\n",
       "      <td>0.071724</td>\n",
       "      <td>0.9784</td>\n",
       "    </tr>\n",
       "    <tr>\n",
       "      <th>27</th>\n",
       "      <td>0.030481</td>\n",
       "      <td>0.992964</td>\n",
       "      <td>0.071750</td>\n",
       "      <td>0.9794</td>\n",
       "    </tr>\n",
       "    <tr>\n",
       "      <th>28</th>\n",
       "      <td>0.028711</td>\n",
       "      <td>0.993527</td>\n",
       "      <td>0.073711</td>\n",
       "      <td>0.9786</td>\n",
       "    </tr>\n",
       "    <tr>\n",
       "      <th>29</th>\n",
       "      <td>0.026896</td>\n",
       "      <td>0.994236</td>\n",
       "      <td>0.072514</td>\n",
       "      <td>0.9780</td>\n",
       "    </tr>\n",
       "  </tbody>\n",
       "</table>\n",
       "</div>"
      ],
      "text/plain": [
       "        loss  accuracy  val_loss  val_accuracy\n",
       "0   0.607101  0.847473  0.304887        0.9164\n",
       "1   0.284697  0.918891  0.238755        0.9328\n",
       "2   0.232190  0.934273  0.203169        0.9438\n",
       "3   0.197570  0.944455  0.174421        0.9504\n",
       "4   0.171788  0.952000  0.156909        0.9576\n",
       "5   0.151903  0.957709  0.147854        0.9598\n",
       "6   0.136294  0.961400  0.128054        0.9642\n",
       "7   0.123248  0.965400  0.123003        0.9650\n",
       "8   0.111480  0.968727  0.117320        0.9676\n",
       "9   0.102381  0.971618  0.107313        0.9692\n",
       "10  0.093810  0.973818  0.101600        0.9712\n",
       "11  0.086517  0.976491  0.096662        0.9736\n",
       "12  0.080100  0.978109  0.098056        0.9724\n",
       "13  0.074544  0.979636  0.091630        0.9736\n",
       "14  0.069133  0.980891  0.088035        0.9748\n",
       "15  0.064928  0.982018  0.085943        0.9754\n",
       "16  0.060298  0.983673  0.083922        0.9746\n",
       "17  0.056390  0.985364  0.080957        0.9760\n",
       "18  0.052840  0.986000  0.079241        0.9768\n",
       "19  0.049516  0.987218  0.079510        0.9776\n",
       "20  0.046759  0.987909  0.075896        0.9770\n",
       "21  0.043703  0.988964  0.075715        0.9774\n",
       "22  0.040948  0.989545  0.072604        0.9788\n",
       "23  0.038612  0.990545  0.073646        0.9770\n",
       "24  0.036346  0.990927  0.071848        0.9778\n",
       "25  0.034261  0.992073  0.073903        0.9788\n",
       "26  0.032143  0.992709  0.071724        0.9784\n",
       "27  0.030481  0.992964  0.071750        0.9794\n",
       "28  0.028711  0.993527  0.073711        0.9786\n",
       "29  0.026896  0.994236  0.072514        0.9780"
      ]
     },
     "execution_count": 33,
     "metadata": {},
     "output_type": "execute_result"
    }
   ],
   "source": [
    "pd.DataFrame(history.history)"
   ]
  },
  {
   "cell_type": "code",
   "execution_count": 34,
   "metadata": {},
   "outputs": [
    {
     "data": {
      "image/png": "[encoded data removed]",
      "text/plain": [
       "<Figure size 720x504 with 1 Axes>"
      ]
     },
     "metadata": {
      "needs_background": "light"
     },
     "output_type": "display_data"
    }
   ],
   "source": [
    "pd.DataFrame(history.history).plot(figsize=(10,7))\n",
    "plt.grid(True)\n",
    "plt.show()"
   ]
  },
  {
   "cell_type": "code",
   "execution_count": 35,
   "metadata": {},
   "outputs": [
    {
     "name": "stdout",
     "output_type": "stream",
     "text": [
      "313/313 [==============================] - 0s 1ms/step - loss: 0.0724 - accuracy: 0.9777\n"
     ]
    },
    {
     "data": {
      "text/plain": [
       "[0.07242404669523239, 0.9776999950408936]"
      ]
     },
     "execution_count": 35,
     "metadata": {},
     "output_type": "execute_result"
    }
   ],
   "source": [
    "model_clf.evaluate(X_test, y_test)"
   ]
  },
  {
   "cell_type": "code",
   "execution_count": 36,
   "metadata": {},
   "outputs": [
    {
     "data": {
      "text/plain": [
       "array([[0.   , 0.   , 0.   , 0.001, 0.   , 0.   , 0.   , 0.999, 0.   ,\n",
       "        0.   ],\n",
       "       [0.   , 0.   , 1.   , 0.   , 0.   , 0.   , 0.   , 0.   , 0.   ,\n",
       "        0.   ],\n",
       "       [0.   , 0.997, 0.001, 0.   , 0.   , 0.   , 0.   , 0.001, 0.   ,\n",
       "        0.   ]], dtype=float32)"
      ]
     },
     "execution_count": 36,
     "metadata": {},
     "output_type": "execute_result"
    }
   ],
   "source": [
    "X_new = X_test[:3]\n",
    "\n",
    "y_prob = model_clf.predict(X_new)\n",
    "\n",
    "y_prob.round(3)"
   ]
  },
  {
   "cell_type": "code",
   "execution_count": 37,
   "metadata": {},
   "outputs": [
    {
     "data": {
      "text/plain": [
       "array([7, 2, 1], dtype=int64)"
      ]
     },
     "execution_count": 37,
     "metadata": {},
     "output_type": "execute_result"
    }
   ],
   "source": [
    "Y_pred = np.argmax(y_prob, axis=-1)\n",
    "Y_pred"
   ]
  },
  {
   "cell_type": "code",
   "execution_count": 40,
   "metadata": {},
   "outputs": [
    {
     "data": {
      "image/png": "[encoded data removed]",
      "text/plain": [
       "<Figure size 432x288 with 1 Axes>"
      ]
     },
     "metadata": {
      "needs_background": "light"
     },
     "output_type": "display_data"
    },
    {
     "data": {
      "image/png": "[encoded data removed]",
      "text/plain": [
       "<Figure size 432x288 with 1 Axes>"
      ]
     },
     "metadata": {
      "needs_background": "light"
     },
     "output_type": "display_data"
    },
    {
     "data": {
      "image/png": "[encoded data removed]",
      "text/plain": [
       "<Figure size 432x288 with 1 Axes>"
      ]
     },
     "metadata": {
      "needs_background": "light"
     },
     "output_type": "display_data"
    }
   ],
   "source": [
    "for img_array, pred, actual in zip(X_new, Y_pred, y_test[:3]):\n",
    "  plt.imshow(img_array, cmap=\"binary\")\n",
    "  plt.title(f\"predicted: {pred}, Actual: {actual}\")\n",
    "  plt.axis(\"off\")\n",
    "  plt.show()"
   ]
  },
  {
   "cell_type": "code",
   "execution_count": 39,
   "metadata": {},
   "outputs": [],
   "source": [
    "model_clf.save(\"model.h5\")"
   ]
  },
  {
   "cell_type": "code",
   "execution_count": 41,
   "metadata": {},
   "outputs": [],
   "source": [
    "loaded_model = tf.keras.models.load_model(\"model.h5\")"
   ]
  },
  {
   "cell_type": "code",
   "execution_count": 42,
   "metadata": {},
   "outputs": [
    {
     "name": "stdout",
     "output_type": "stream",
     "text": [
      "313/313 [==============================] - 0s 1ms/step - loss: 0.0724 - accuracy: 0.9777\n"
     ]
    },
    {
     "data": {
      "text/plain": [
       "[0.07242404669523239, 0.9776999950408936]"
      ]
     },
     "execution_count": 42,
     "metadata": {},
     "output_type": "execute_result"
    }
   ],
   "source": [
    "loaded_model.evaluate(X_test, y_test)"
   ]
  },
  {
   "cell_type": "code",
   "execution_count": 43,
   "metadata": {},
   "outputs": [],
   "source": [
    "y_pred = loaded_model.predict(X_test[:3])"
   ]
  },
  {
   "cell_type": "code",
   "execution_count": 44,
   "metadata": {},
   "outputs": [
    {
     "data": {
      "text/plain": [
       "array([[7.3845047e-07, 4.2032025e-06, 2.9995237e-05, 7.6138414e-04,\n",
       "        5.2498105e-08, 5.8143373e-06, 1.6077317e-10, 9.9916744e-01,\n",
       "        2.3844159e-06, 2.8077540e-05],\n",
       "       [2.7036560e-07, 9.9876052e-05, 9.9969828e-01, 1.9625589e-04,\n",
       "        4.1341592e-12, 5.8204813e-07, 3.1035179e-06, 1.0367636e-11,\n",
       "        1.6643872e-06, 1.0776595e-13],\n",
       "       [2.1844369e-06, 9.9742979e-01, 9.5695234e-04, 4.7763002e-05,\n",
       "        7.0874405e-05, 4.4856268e-05, 4.3597796e-05, 9.4937265e-04,\n",
       "        4.4198983e-04, 1.2690634e-05]], dtype=float32)"
      ]
     },
     "execution_count": 44,
     "metadata": {},
     "output_type": "execute_result"
    }
   ],
   "source": [
    "y_pred"
   ]
  },
  {
   "cell_type": "code",
   "execution_count": 45,
   "metadata": {},
   "outputs": [
    {
     "data": {
      "text/plain": [
       "array([7, 2, 1], dtype=int64)"
      ]
     },
     "execution_count": 45,
     "metadata": {},
     "output_type": "execute_result"
    }
   ],
   "source": [
    "np.argmax(y_pred, axis=-1)"
   ]
  },
  {
   "cell_type": "markdown",
   "metadata": {},
   "source": [
    "<b>Theories\n",
    "\n",
    "(i) data representation</b>"
   ]
  },
  {
   "cell_type": "markdown",
   "metadata": {},
   "source": [
    "<b>1.rank 0 tensors : \n",
    "\n",
    "        scalar tensor have 0 axes(ndim==0)\n",
    "\n",
    "\n",
    "2.vectors/rank 1 tensor: \n",
    "\n",
    "                a rank 1 tensor is said to have exactly only one axes \n",
    "    \n",
    "3. rank 2 vectors : \n",
    "                 a matrix having 2 axes i.e rows nd columns \n",
    "                 \n",
    "4. rank3 and higher rank tensors: \n",
    "                    \n",
    "                    rank 3 can be visually seen as a cube of numbers </b>\n",
    "                    \n",
    "          \n",
    " <b> deep learning models don’t process an entire dataset at once; rather,they break the data into small batches.</b>\n",
    " \n",
    " <b>When considering such a batch tensor, the first axis (axis 0) is called the batch axis or batch dimension.</b>\n",
    " \n",
    " real world exmaple : \n",
    "         like vector data,time series data,images,video \n",
    "     "
   ]
  },
  {
   "cell_type": "markdown",
   "metadata": {},
   "source": [
    "<b>(ii)Geometric interpretation</b>"
   ]
  },
  {
   "cell_type": "markdown",
   "metadata": {},
   "source": [
    "Translation: As you just saw, adding a vector to a point will move the point by a fixed amount in a fixed direction. \n",
    "Applied to a set of points (such as a 2D object), this is called a “translation”.\n",
    "\n",
    "Rotation: A counterclockwise rotation of a 2D vector by an angle theta (see fig\u0002ure 2.10) can be achieved via a dot product with a 2 × 2 matrix\n",
    " \n",
    " \n",
    "Scaling: A vertical and horizontal scaling of the image (see figure 2.11) can beachieved via a dot product with a 2 × 2 matrix \n",
    "\n",
    "Linear transform: A dot product with an arbitrary matrix implements a linear transform.\n",
    "    \n",
    "Affine transform: An affine transform is the combination of a linear transform and a translation. \n",
    "    \n",
    "Dense layer with relu activation: An important observation about affine trans\u0002forms is that if you apply many of them repeatedly, you still end up with an\n",
    "affine transform"
   ]
  },
  {
   "cell_type": "markdown",
   "metadata": {},
   "source": [
    "<b>(iii)Gradient based optimisation: \n",
    "\n",
    "            Gradient descent is the optimization technique that powers modern neural networks"
   ]
  },
  {
   "cell_type": "markdown",
   "metadata": {},
   "source": [
    " This happens within what’s called a training loop, which works as follows. \n",
    " \n",
    " Repeat these steps in a loop, until the loss seems sufficiently low:\n",
    " \n",
    "1 Draw a batch of training samples, x, and corresponding targets, y_true.\n",
    "\n",
    "2 Run the model on x (a step called the forward pass) to obtain predictions, y_pred.\n",
    "\n",
    "3 Compute the loss of the model on the batch, a measure of the mismatch between\n",
    "\n",
    "y_pred and y_true.\n",
    "\n",
    "4 Update all weights of the model in a way that slightly reduces the loss on this\n",
    "batch\n",
    "\n"
   ]
  },
  {
   "cell_type": "markdown",
   "metadata": {},
   "source": [
    "<b>(iv)derivative of a tensor operation</b>"
   ]
  },
  {
   "cell_type": "markdown",
   "metadata": {},
   "source": [
    "The concept of derivation can be applied to any such function, as long as the surfaces they describe are continuous and smooth. \n",
    "\n",
    "The derivative of a tensor operation(or tensor function) is called a gradient.\n",
    "\n",
    "Gradients are just the generalization of the concept of derivatives to functions that take tensors as inputs. \n",
    "\n",
    "In the same way, the gradient of a tensor function represents the curvature of the multidimensional surface described by the function. \n",
    "\n",
    "It characterizes how the output of the function varies when its input parameters vary.\n",
    " \n",
    "Let’s look at an example grounded in machine learning. Consider: \n",
    "\n",
    " An input vector, x (a sample in a dataset)\n",
    "\n",
    " A matrix, W (the weights of a model)\n",
    "\n",
    " A target, y_true (what the model should learn to associate to x)\n",
    "\n",
    " A loss function, loss (meant to measure the gap between the model’s current\n",
    "predictions and y_true)\n"
   ]
  },
  {
   "cell_type": "markdown",
   "metadata": {},
   "source": [
    "<b>(v)stochastic gradient descent </b>\n"
   ]
  },
  {
   "cell_type": "markdown",
   "metadata": {},
   "source": [
    "If you update the weights in the opposite direction from the gradient, the loss will be a little less every time:\n",
    "    \n",
    "1 Draw a batch of training samples, x, and corresponding targets, y_true.\n",
    "\n",
    "2 Run the model on x to obtain predictions, y_pred (this is called the forward pass)\n",
    "\n",
    "3 Compute the loss of the model on the batch, a measure of the mismatch between y_pred and y_true.\n",
    "\n",
    "4 Compute the gradient of the loss with regard to the model’s parameters (this is called the backward pass).\n",
    "\n",
    "5 Move the parameters a little in the opposite direction from the gradient\n",
    "\n",
    "for example,W -= learning_rate * gradient—thus reducing the loss on the batch a bit. \n",
    "\n",
    "The learning rate (learning_rate here) would be a scalar factor modulat\u0002ing the “speed” of the gradient descent proces"
   ]
  },
  {
   "cell_type": "markdown",
   "metadata": {},
   "source": [
    "<b>The term stochastic refers to the fact that each batch of data is drawn at random</b>"
   ]
  },
  {
   "cell_type": "markdown",
   "metadata": {},
   "source": [
    "<b> Note: \n",
    "    \n",
    "(i)it’s important to pick a reasonable value for the learning_rate factor.\n",
    "\n",
    "If it’s too small, the descent down the curve will take many iterations, and it could get stuck in a local minimum. \n",
    "\n",
    "If learning_rate is too large, your updates may end up taking you to completely random locations on the curve.\n",
    "    \n",
    "    \n",
    "(ii) there exist multiple variants of SGD that differ by taking into account previous weight updates when computing the next weight update, rather than just looking at the current value of the gradients. \n",
    "    \n",
    "There is, for instance, SGD with momentum, as well as Adagrad, RMSprop, and several others. \n",
    "    \n",
    "Such variants are known as optimization methods or optimizers. \n",
    "    \n",
    "In particular, the concept of momentum, which is used in many of these variants, deserves your attention. \n",
    "    \n",
    "Momentum addresses two issues with SGD: convergence speed and local minima"
   ]
  },
  {
   "cell_type": "code",
   "execution_count": null,
   "metadata": {},
   "outputs": [],
   "source": []
  }
 ],
 "metadata": {
  "kernelspec": {
   "display_name": "Python 3",
   "language": "python",
   "name": "python3"
  },
  "language_info": {
   "codemirror_mode": {
    "name": "ipython",
    "version": 3
   },
   "file_extension": ".py",
   "mimetype": "text/x-python",
   "name": "python",
   "nbconvert_exporter": "python",
   "pygments_lexer": "ipython3",
   "version": "3.8.5"
  }
 },
 "nbformat": 4,
 "nbformat_minor": 4
}
